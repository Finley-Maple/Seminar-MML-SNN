{
 "cells": [
  {
   "cell_type": "code",
   "execution_count": 1,
   "metadata": {},
   "outputs": [
    {
     "ename": "ModuleNotFoundError",
     "evalue": "No module named 'tensorflow_compression'",
     "output_type": "error",
     "traceback": [
      "\u001b[1;31m---------------------------------------------------------------------------\u001b[0m",
      "\u001b[1;31mModuleNotFoundError\u001b[0m                       Traceback (most recent call last)",
      "\u001b[1;32mc:\\Users\\Finley\\Desktop\\学习资料\\Germany\\2023ws\\Seminar Mathematical Machine Learning\\seminars\\seminar 2\\Seminar-MML-SNN\\demo_MNIST.ipynb Cell 1\u001b[0m line \u001b[0;36m<cell line: 4>\u001b[1;34m()\u001b[0m\n\u001b[0;32m      <a href='vscode-notebook-cell:/c%3A/Users/Finley/Desktop/%E5%AD%A6%E4%B9%A0%E8%B5%84%E6%96%99/Germany/2023ws/Seminar%20Mathematical%20Machine%20Learning/seminars/seminar%202/Seminar-MML-SNN/demo_MNIST.ipynb#W1sZmlsZQ%3D%3D?line=1'>2</a>\u001b[0m \u001b[39mimport\u001b[39;00m \u001b[39mmatplotlib\u001b[39;00m\u001b[39m.\u001b[39;00m\u001b[39mpyplot\u001b[39;00m \u001b[39mas\u001b[39;00m \u001b[39mplt\u001b[39;00m\n\u001b[0;32m      <a href='vscode-notebook-cell:/c%3A/Users/Finley/Desktop/%E5%AD%A6%E4%B9%A0%E8%B5%84%E6%96%99/Germany/2023ws/Seminar%20Mathematical%20Machine%20Learning/seminars/seminar%202/Seminar-MML-SNN/demo_MNIST.ipynb#W1sZmlsZQ%3D%3D?line=2'>3</a>\u001b[0m \u001b[39mimport\u001b[39;00m \u001b[39mtensorflow\u001b[39;00m \u001b[39mas\u001b[39;00m \u001b[39mtf\u001b[39;00m\n\u001b[1;32m----> <a href='vscode-notebook-cell:/c%3A/Users/Finley/Desktop/%E5%AD%A6%E4%B9%A0%E8%B5%84%E6%96%99/Germany/2023ws/Seminar%20Mathematical%20Machine%20Learning/seminars/seminar%202/Seminar-MML-SNN/demo_MNIST.ipynb#W1sZmlsZQ%3D%3D?line=3'>4</a>\u001b[0m \u001b[39mimport\u001b[39;00m \u001b[39mtensorflow_compression\u001b[39;00m \u001b[39mas\u001b[39;00m \u001b[39mtfc\u001b[39;00m\n\u001b[0;32m      <a href='vscode-notebook-cell:/c%3A/Users/Finley/Desktop/%E5%AD%A6%E4%B9%A0%E8%B5%84%E6%96%99/Germany/2023ws/Seminar%20Mathematical%20Machine%20Learning/seminars/seminar%202/Seminar-MML-SNN/demo_MNIST.ipynb#W1sZmlsZQ%3D%3D?line=4'>5</a>\u001b[0m \u001b[39mimport\u001b[39;00m \u001b[39mtensorflow_datasets\u001b[39;00m \u001b[39mas\u001b[39;00m \u001b[39mtfds\u001b[39;00m\n\u001b[0;32m      <a href='vscode-notebook-cell:/c%3A/Users/Finley/Desktop/%E5%AD%A6%E4%B9%A0%E8%B5%84%E6%96%99/Germany/2023ws/Seminar%20Mathematical%20Machine%20Learning/seminars/seminar%202/Seminar-MML-SNN/demo_MNIST.ipynb#W1sZmlsZQ%3D%3D?line=6'>7</a>\u001b[0m \u001b[39m# Define the hyperparameters\u001b[39;00m\n",
      "\u001b[1;31mModuleNotFoundError\u001b[0m: No module named 'tensorflow_compression'"
     ]
    }
   ],
   "source": [
    "# Import the necessary modules\n",
    "import matplotlib.pyplot as plt\n",
    "import tensorflow as tf\n",
    "import tensorflow_compression as tfc\n",
    "import tensorflow_datasets as tfds\n",
    "\n",
    "# Define the hyperparameters\n",
    "batch_size = 128\n",
    "num_epochs = 10\n",
    "temperature = 10 # A scaling factor for the soft targets\n",
    "alpha = 0.9 # A weighting factor for the soft loss\n",
    "\n",
    "# Load the Fashion MNIST dataset\n",
    "transform = tf.keras.layers.experimental.preprocessing.Rescaling(1./255)\n",
    "trainset = tfds.load('fashion_mnist', split='train', as_supervised=True).map(lambda x, y: (transform(x), y)).batch(batch_size)\n",
    "testset = tfds.load('fashion_mnist', split='test', as_supervised=True).map(lambda x, y: (transform(x), y)).batch(batch_size)\n",
    "classes = ('T-shirt/top', 'Trouser', 'Pullover', 'Dress', 'Coat', 'Sandal', 'Shirt', 'Sneaker', 'Bag', 'Ankle boot')\n",
    "\n",
    "# Define the teacher model (a small convolutional neural network)\n",
    "class Teacher(tf.keras.Model):\n",
    "    def __init__(self):\n",
    "        super(Teacher, self).__init__()\n",
    "        self.conv1 = tf.keras.layers.Conv2D(16, 3, padding='same', activation='relu')\n",
    "        self.pool1 = tf.keras.layers.MaxPool2D(2, 2)\n",
    "        self.conv2 = tf.keras.layers.Conv2D(32, 3, padding='same', activation='relu')\n",
    "        self.pool2 = tf.keras.layers.MaxPool2D(2, 2)\n",
    "        self.flatten = tf.keras.layers.Flatten()\n",
    "        self.fc1 = tf.keras.layers.Dense(64, activation='relu')\n",
    "        self.fc2 = tf.keras.layers.Dense(10)\n",
    "\n",
    "    def call(self, x):\n",
    "        x = self.pool1(self.conv1(x))\n",
    "        x = self.pool2(self.conv2(x))\n",
    "        x = self.flatten(x)\n",
    "        x = self.fc1(x)\n",
    "        x = self.fc2(x)\n",
    "        return x\n",
    "\n",
    "# Define the student model (a smaller fully-connected neural network)\n",
    "class Student(tf.keras.Model):\n",
    "    def __init__(self):\n",
    "        super(Student, self).__init__()\n",
    "        self.flatten = tf.keras.layers.Flatten()\n",
    "        self.fc1 = tf.keras.layers.Dense(32, activation='relu')\n",
    "        self.fc2 = tf.keras.layers.Dense(10)\n",
    "\n",
    "    def call(self, x):\n",
    "        x = self.flatten(x)\n",
    "        x = self.fc1(x)\n",
    "        x = self.fc2(x)\n",
    "        return x\n"
   ]
  },
  {
   "cell_type": "code",
   "execution_count": null,
   "metadata": {},
   "outputs": [],
   "source": [
    "# Instantiate the models\n",
    "teacher = Teacher()\n",
    "student = Student()\n",
    "\n",
    "# Define the loss function and the optimizer\n",
    "criterion = tf.keras.losses.SparseCategoricalCrossentropy(from_logits=True)\n",
    "optimizer = tf.keras.optimizers.SGD(learning_rate=0.01, momentum=0.9)\n",
    "\n",
    "# Train the teacher model on the original hard targets\n",
    "teacher.compile(optimizer=optimizer, loss=criterion, metrics=['accuracy'])\n",
    "teacher.fit(trainset, epochs=num_epochs, validation_data=testset)\n",
    "print('Finished training the teacher model')\n",
    "\n",
    "# Evaluate the teacher model on the test set\n",
    "teacher.evaluate(testset)\n",
    "print('Accuracy of the teacher model on the test set: %.2f %%' % (teacher.metrics[-1].result() * 100))"
   ]
  },
  {
   "cell_type": "code",
   "execution_count": null,
   "metadata": {},
   "outputs": [],
   "source": [
    "# Train the student model on the soft targets from the teacher model\n",
    "student.compile(optimizer=optimizer, loss=criterion, metrics=['accuracy'])\n",
    "for epoch in range(num_epochs):\n",
    "    running_loss = 0.0\n",
    "    for i, (inputs, labels) in enumerate(trainset):\n",
    "        with tf.GradientTape() as tape:\n",
    "            outputs = student(inputs)\n",
    "            with tf.GradientTape(watch_accessed_variables=False) as tape2:\n",
    "                tape2.watch(outputs)\n",
    "                teacher_outputs = teacher(inputs)\n",
    "            # Compute the soft loss and the hard loss\n",
    "            soft_loss = tf.keras.losses.KLDivergence()(tf.nn.softmax(teacher_outputs / temperature), tf.nn.softmax(outputs / temperature))\n",
    "            hard_loss = criterion(labels, outputs)\n",
    "            # Combine the soft loss and the hard loss with a weighting factor\n",
    "            loss = alpha * soft_loss + (1 - alpha) * hard_loss\n",
    "        # Apply the gradients\n",
    "        grads = tape.gradient(loss, student.trainable_variables)\n",
    "        optimizer.apply_gradients(zip(grads, student.trainable_variables))\n",
    "        running_loss += loss.numpy()\n",
    "        if i % 200 == 199:\n",
    "            print('[%d, %5d] loss: %.3f' % (epoch + 1, i + 1, running_loss / 200))\n",
    "            running_loss = 0.0\n",
    "print('Finished training the student model')\n",
    "\n",
    "# Evaluate the student model on the test set\n",
    "student.evaluate(testset)\n",
    "print('Accuracy of the student model on the test set: %.2f %%' % (student.metrics[-1].result() * 100))"
   ]
  }
 ],
 "metadata": {
  "kernelspec": {
   "display_name": "Python 3",
   "language": "python",
   "name": "python3"
  },
  "language_info": {
   "codemirror_mode": {
    "name": "ipython",
    "version": 3
   },
   "file_extension": ".py",
   "mimetype": "text/x-python",
   "name": "python",
   "nbconvert_exporter": "python",
   "pygments_lexer": "ipython3",
   "version": "3.10.6"
  }
 },
 "nbformat": 4,
 "nbformat_minor": 2
}
